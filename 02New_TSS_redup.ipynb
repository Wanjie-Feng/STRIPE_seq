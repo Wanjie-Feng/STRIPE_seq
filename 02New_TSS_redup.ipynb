{
 "cells": [
  {
   "cell_type": "code",
   "execution_count": 18,
   "id": "1e783bcf",
   "metadata": {},
   "outputs": [],
   "source": [
    "library(CAGEfightR)\n",
    "library(GenomicFeatures)\n",
    "library(diptest)\n",
    "setwd(\"./soybean_data/stripe-seq_data/\")"
   ]
  },
  {
   "cell_type": "code",
   "execution_count": 24,
   "id": "7747a420",
   "metadata": {},
   "outputs": [],
   "source": [
    "bw_plus <- BigWigFileList(c(\"W82.Flower.plus.rd.bw\",\"W82.Leaf.plus.rd.bw\",\n",
    "                            \"W82.Nodule.plus.rd.bw\",\"W82.Pod.plus.rd.bw\",\n",
    "                            \"W82.Root.plus.rd.bw\",\"W82.Seed.plus.rd.bw\",\n",
    "                            \"W82.Shoot.plus.rd.bw\",\"W82.Stemtip.plus.rd.bw\"))\n",
    "\n",
    "bw_minus <- BigWigFileList(c(\"W82.Flower.minus.rd.bw\",\"W82.Leaf.minus.rd.bw\",\n",
    "                             \"W82.Nodule.minus.rd.bw\",\"W82.Pod.minus.rd.bw\",\n",
    "                             \"W82.Root.minus.rd.bw\",\"W82.Seed.minus.rd.bw\",\n",
    "                             \"W82.Shoot.minus.rd.bw\",\"W82.Stemtip.minus.rd.bw\"))\n",
    "\n",
    "names(bw_plus) <- c(\"Flower\",\"Leaf\",\n",
    "                    \"Nodule\",\"Pod\",\n",
    "                    \"Root\",\"Seed\",\n",
    "                    \"Shoot\",\"Stemtip\")\n",
    "\n",
    "names(bw_minus) <-  c(\"Flower\",\"Leaf\",\n",
    "                      \"Nodule\",\"Pod\",\n",
    "                      \"Root\",\"Seed\",\n",
    "                      \"Shoot\",\"Stemtip\")"
   ]
  },
  {
   "cell_type": "code",
   "execution_count": 25,
   "id": "a9f6d39e",
   "metadata": {},
   "outputs": [
    {
     "data": {
      "text/plain": [
       "Seqinfo object with 20 sequences from an unspecified genome:\n",
       "  seqnames seqlengths isCircular genome\n",
       "  Chr01      56831624       <NA>   <NA>\n",
       "  Chr02      48577505       <NA>   <NA>\n",
       "  Chr03      45779781       <NA>   <NA>\n",
       "  Chr04      52389146       <NA>   <NA>\n",
       "  Chr05      42234498       <NA>   <NA>\n",
       "  ...             ...        ...    ...\n",
       "  Chr16      37887014       <NA>   <NA>\n",
       "  Chr17      41641366       <NA>   <NA>\n",
       "  Chr18      58018742       <NA>   <NA>\n",
       "  Chr19      50746916       <NA>   <NA>\n",
       "  Chr20      47904181       <NA>   <NA>"
      ]
     },
     "metadata": {},
     "output_type": "display_data"
    }
   ],
   "source": [
    "Gm <- seqinfo(bw_plus[[1]])\n",
    "Gm"
   ]
  },
  {
   "cell_type": "code",
   "execution_count": 26,
   "id": "e0115ec5",
   "metadata": {},
   "outputs": [
    {
     "name": "stderr",
     "output_type": "stream",
     "text": [
      "Checking design...\n",
      "\n",
      "Checking supplied genome compatibility...\n",
      "\n",
      "Iterating over 1 genomic tiles in 8 samples using 102 worker(s)...\n",
      "\n",
      "Importing CTSSs from plus strand...\n",
      "\n",
      "Importing CTSSs from minus strand...\n",
      "\n",
      "Merging strands...\n",
      "\n",
      "Formatting output...\n",
      "\n",
      "### CTSS summary ###\n",
      "\n",
      "Number of samples: 8\n",
      "\n",
      "Number of CTSSs: 2.318 millions\n",
      "\n",
      "Sparsity: 78.38 %\n",
      "\n",
      "Type of rowRanges: StitchedGPos\n",
      "\n",
      "Final object size: 61.90 MB\n",
      "\n",
      " - Running calcTPM and calcPooled:\n",
      "\n",
      "Calculating library sizes...\n",
      "\n",
      "Calculating TPM...\n",
      "\n",
      "\n",
      " - Running clusterUnidirectionally:\n",
      "\n",
      "Splitting by strand...\n",
      "\n",
      "Slice-reduce to find clusters...\n",
      "\n",
      "Calculating statistics...\n",
      "\n",
      "Preparing output...\n",
      "\n",
      "Tag clustering summary:\n",
      "\n",
      "  Width  Count Percent\n",
      "  Total 656075 1e+02 %\n",
      "    >=1 492084 8e+01 %\n",
      "   >=10 148200 2e+01 %\n",
      "  >=100  15781 2e+00 %\n",
      " >=1000     10 2e-03 %\n",
      "\n",
      "\n",
      " - Running quantifyClusters:\n",
      "\n",
      "Finding overlaps...\n",
      "\n",
      "Aggregating within clusters...\n",
      "\n"
     ]
    }
   ],
   "source": [
    "CTSSs <- quantifyCTSSs(plusStrand=bw_plus,\n",
    "                       minusStrand=bw_minus,\n",
    "                       genome=Gm)\n",
    "TSSs <- quickTSSs(CTSSs)"
   ]
  },
  {
   "cell_type": "code",
   "execution_count": 28,
   "id": "a8d0771e",
   "metadata": {},
   "outputs": [
    {
     "name": "stderr",
     "output_type": "stream",
     "text": [
      "Import genomic features from the file as a GRanges object ... \n",
      "OK\n",
      "\n",
      "Prepare the 'metadata' data frame ... \n",
      "OK\n",
      "\n",
      "Make the TxDb object ... \n",
      "OK\n",
      "\n"
     ]
    }
   ],
   "source": [
    "\n",
    "txdb <- makeTxDbFromGFF(file=\"../genome_file/Gmax_v2.0_changed.rmscaff.gff3\",\n",
    "                         #file=\"Gmax_merged.gff3\",\n",
    "                        format=\"gff3\",\n",
    "                        dataSource=\"gff for Gm\",\n",
    "                       organism=\"Glycine max\")"
   ]
  },
  {
   "cell_type": "code",
   "execution_count": 29,
   "id": "7e1b9fab",
   "metadata": {},
   "outputs": [
    {
     "name": "stderr",
     "output_type": "stream",
     "text": [
      "Finding hierachical overlaps...\n",
      "\n",
      "### Overlap summary: ###\n",
      "\n",
      "      txType  count percentage\n",
      "1   promoter 673537       29.1\n",
      "2   proximal 104049        4.5\n",
      "3    fiveUTR 412753       17.8\n",
      "4   threeUTR  25428        1.1\n",
      "5        CDS 839307       36.2\n",
      "6       exon      0        0.0\n",
      "7     intron 132715        5.7\n",
      "8  antisense  49923        2.2\n",
      "9 intergenic  80621        3.5\n",
      "\n",
      "Extracting transcripts...\n",
      "\n",
      "Finding hierachical overlaps...\n",
      "\n",
      "### Overlap Summary: ###\n",
      "\n",
      "Features overlapping transcripts: 94.37 %\n",
      "\n",
      "Number of unique transcripts: 77558\n",
      "\n"
     ]
    }
   ],
   "source": [
    "# Annotate both TSSs and enhancers\n",
    "CTSSs <- assignTxType(CTSSs, txModels=txdb,\n",
    "                     outputColumn=\"txType\")\n",
    "#####\n",
    "CTSSs <- assignTxID(CTSSs,\n",
    "                   txModels=txdb,\n",
    "                   outputColumn=\"txID\")"
   ]
  },
  {
   "cell_type": "code",
   "execution_count": 30,
   "id": "50ebb115",
   "metadata": {},
   "outputs": [
    {
     "name": "stderr",
     "output_type": "stream",
     "text": [
      "Calculating library sizes...\n",
      "\n",
      "Calculating TPM...\n",
      "\n"
     ]
    }
   ],
   "source": [
    "CTSSs <- calcTPM(CTSSs,\n",
    "                 inputAssay=\"counts\",\n",
    "                 outputAssay=\"TPM\",\n",
    "                 outputColumn=\"subsetTags\")"
   ]
  },
  {
   "cell_type": "code",
   "execution_count": 31,
   "id": "f23665a9",
   "metadata": {},
   "outputs": [
    {
     "data": {
      "text/plain": [
       "class: RangedSummarizedExperiment \n",
       "dim: 2318333 8 \n",
       "metadata(0):\n",
       "assays(2): counts TPM\n",
       "rownames: NULL\n",
       "rowData names(2): txType txID\n",
       "colnames(8): Flower Leaf ... Shoot Stemtip\n",
       "colData names(1): subsetTags"
      ]
     },
     "metadata": {},
     "output_type": "display_data"
    }
   ],
   "source": [
    "CTSSs"
   ]
  },
  {
   "cell_type": "code",
   "execution_count": 32,
   "id": "33d93338",
   "metadata": {},
   "outputs": [],
   "source": [
    "###export a table\n",
    "result <- data.frame(as.data.frame(CTSSs@rowRanges),\n",
    "                     as.data.frame(as.matrix(CTSSs@assays@data@listData$counts)),\n",
    "                    as.data.frame(as.matrix(CTSSs@assays@data@listData$TPM)))\n",
    "\n",
    "write.table(result,\n",
    "            file= \"../result_file/CTSS_raw.txt\",\n",
    "            col.names=T,row.names=F,\n",
    "            sep=\"\\t\",quote=F)"
   ]
  },
  {
   "cell_type": "code",
   "execution_count": 33,
   "id": "ecf9c5a1",
   "metadata": {},
   "outputs": [
    {
     "data": {
      "text/plain": [
       "StitchedGPos object with 2318333 positions and 3 metadata columns:\n",
       "            seqnames       pos strand |   txType                   txID\n",
       "               <Rle> <integer>  <Rle> | <factor>            <character>\n",
       "        [1]    Chr01    116022      + | promoter Glyma.01G000600.1.Wm..\n",
       "        [2]    Chr01    116026      + | promoter Glyma.01G000600.1.Wm..\n",
       "        [3]    Chr01    116072      + | promoter Glyma.01G000600.1.Wm..\n",
       "        [4]    Chr01    116088      + | promoter Glyma.01G000600.1.Wm..\n",
       "        [5]    Chr01    116089      + | promoter Glyma.01G000600.1.Wm..\n",
       "        ...      ...       ...    ... .      ...                    ...\n",
       "  [2318329]    Chr20  47901250      - | promoter Glyma.20G250200.2.Wm..\n",
       "  [2318330]    Chr20  47901252      - | promoter Glyma.20G250200.2.Wm..\n",
       "  [2318331]    Chr20  47901287      - | promoter Glyma.20G250200.2.Wm..\n",
       "  [2318332]    Chr20  47901289      - | promoter Glyma.20G250200.2.Wm..\n",
       "  [2318333]    Chr20  47901358      - | promoter Glyma.20G250200.2.Wm..\n",
       "                score\n",
       "            <numeric>\n",
       "        [1]  0.953222\n",
       "        [2]  0.299031\n",
       "        [3]  0.173313\n",
       "        [4]  1.885623\n",
       "        [5]  8.781491\n",
       "        ...       ...\n",
       "  [2318329] 1.4762020\n",
       "  [2318330] 0.2990306\n",
       "  [2318331] 0.0866565\n",
       "  [2318332] 1.2703863\n",
       "  [2318333] 0.5199391\n",
       "  -------\n",
       "  seqinfo: 20 sequences from an unspecified genome"
      ]
     },
     "metadata": {},
     "output_type": "display_data"
    }
   ],
   "source": [
    "CTSSs <- calcPooled(CTSSs, inputAssay=\"TPM\")\n",
    "rowRanges(CTSSs)"
   ]
  },
  {
   "cell_type": "code",
   "execution_count": 34,
   "id": "01a193ed",
   "metadata": {},
   "outputs": [
    {
     "data": {
      "text/plain": [
       "\n",
       "      0       1       2       3       4       5       6       7       8 \n",
       "1825475  327548   63415   30885   19682   14658   12443   12008   12219 "
      ]
     },
     "metadata": {},
     "output_type": "display_data"
    }
   ],
   "source": [
    "CTSSs <- calcSupport(CTSSs,inputAssay=\"TPM\", \n",
    "                            outputColumn=\"support\", \n",
    "                            unexpressed=1)\n",
    "table(rowRanges(CTSSs)$support)"
   ]
  },
  {
   "cell_type": "code",
   "execution_count": 35,
   "id": "320ca12d",
   "metadata": {},
   "outputs": [
    {
     "name": "stderr",
     "output_type": "stream",
     "text": [
      "Warning message in calcPooled(supportedCTSSs):\n",
      "\"object already has a column named score in rowData: It will be overwritten!\"\n"
     ]
    }
   ],
   "source": [
    "## ----subset, tidy=FALSE-------------------------------------------------------\n",
    "supportedCTSSs <- subset(CTSSs, support > 0)\n",
    "#supportedCTSSs <- calcTPM(supportedCTSSs, totalTags=\"totalTags\")\n",
    "supportedCTSSs <- calcPooled(supportedCTSSs)"
   ]
  },
  {
   "cell_type": "code",
   "execution_count": 36,
   "id": "0a7430c7",
   "metadata": {},
   "outputs": [],
   "source": [
    "result <-data.frame(as.data.frame(supportedCTSSs@rowRanges),\n",
    "                    as.data.frame(as.matrix(assay(supportedCTSSs,\"counts\"))),\n",
    "                    as.data.frame(as.matrix(assay(supportedCTSSs,\"TPM\"))))\n",
    "write.table(result,\n",
    "            file=\"../result_file/supportTSSs.txt\",\n",
    "            col.names=T,row.names=F,\n",
    "            sep=\"\\t\",quote=F)"
   ]
  },
  {
   "cell_type": "code",
   "execution_count": 37,
   "id": "e81664d0",
   "metadata": {},
   "outputs": [
    {
     "name": "stderr",
     "output_type": "stream",
     "text": [
      "Splitting by strand...\n",
      "\n",
      "Slice-reduce to find clusters...\n",
      "\n",
      "Calculating statistics...\n",
      "\n",
      "Preparing output...\n",
      "\n",
      "Tag clustering summary:\n",
      "\n",
      "  Width  Count Percent\n",
      "  Total 193579   100 %\n",
      "    >=1 151172    78 %\n",
      "   >=10  40448    21 %\n",
      "  >=100   1959     1 %\n",
      " >=1000      0     0 %\n",
      "\n"
     ]
    },
    {
     "data": {
      "text/plain": [
       "GRanges object with 193579 ranges and 2 metadata columns:\n",
       "                            seqnames            ranges strand |     score\n",
       "                               <Rle>         <IRanges>  <Rle> | <numeric>\n",
       "      Chr01:116089-116110;+    Chr01     116089-116110      + |  20.03456\n",
       "      Chr01:116131-116134;+    Chr01     116131-116134      + |  17.41587\n",
       "      Chr01:116213-116213;+    Chr01            116213      + |   1.73737\n",
       "      Chr01:116245-116245;+    Chr01            116245      + |   1.19612\n",
       "      Chr01:117419-117419;+    Chr01            117419      + |   1.38735\n",
       "                        ...      ...               ...    ... .       ...\n",
       "  Chr20:47900986-47900986;-    Chr20          47900986      - |   2.44671\n",
       "  Chr20:47901093-47901110;-    Chr20 47901093-47901110      - |  12.71380\n",
       "  Chr20:47901180-47901201;-    Chr20 47901180-47901201      - |  26.73318\n",
       "  Chr20:47901226-47901250;-    Chr20 47901226-47901250      - |   9.13046\n",
       "  Chr20:47901289-47901289;-    Chr20          47901289      - |   1.27039\n",
       "                                thick\n",
       "                            <IRanges>\n",
       "      Chr01:116089-116110;+    116089\n",
       "      Chr01:116131-116134;+    116131\n",
       "      Chr01:116213-116213;+    116213\n",
       "      Chr01:116245-116245;+    116245\n",
       "      Chr01:117419-117419;+    117419\n",
       "                        ...       ...\n",
       "  Chr20:47900986-47900986;-  47900986\n",
       "  Chr20:47901093-47901110;-  47901110\n",
       "  Chr20:47901180-47901201;-  47901187\n",
       "  Chr20:47901226-47901250;-  47901238\n",
       "  Chr20:47901289-47901289;-  47901289\n",
       "  -------\n",
       "  seqinfo: 20 sequences from an unspecified genome"
      ]
     },
     "metadata": {},
     "output_type": "display_data"
    }
   ],
   "source": [
    "#change !!!\n",
    "prefiltered_TCs <- clusterUnidirectionally(supportedCTSSs, \n",
    "                                           pooledCutoff=0, \n",
    "                                           mergeDist=20)\n",
    "prefiltered_TCs"
   ]
  },
  {
   "cell_type": "code",
   "execution_count": 38,
   "id": "977b3d5b",
   "metadata": {},
   "outputs": [
    {
     "name": "stderr",
     "output_type": "stream",
     "text": [
      "Finding overlaps...\n",
      "\n",
      "Aggregating within clusters...\n",
      "\n"
     ]
    },
    {
     "data": {
      "text/plain": [
       "class: RangedSummarizedExperiment \n",
       "dim: 193579 8 \n",
       "metadata(0):\n",
       "assays(1): counts\n",
       "rownames(193579): Chr01:116089-116110;+ Chr01:116131-116134;+ ...\n",
       "  Chr20:47901226-47901250;- Chr20:47901289-47901289;-\n",
       "rowData names(2): score thick\n",
       "colnames(8): Flower Leaf ... Shoot Stemtip\n",
       "colData names(1): subsetTags"
      ]
     },
     "metadata": {},
     "output_type": "display_data"
    }
   ],
   "source": [
    "#potential change the sample number.\n",
    "sup_TSSs <- quantifyClusters(supportedCTSSs,\n",
    "                                      clusters=prefiltered_TCs,\n",
    "                                      inputAssay=\"counts\")\n",
    "sup_TSSs"
   ]
  },
  {
   "cell_type": "code",
   "execution_count": 39,
   "id": "3defcdc6",
   "metadata": {},
   "outputs": [
    {
     "name": "stderr",
     "output_type": "stream",
     "text": [
      "Calculating library sizes...\n",
      "\n",
      "Warning message in calcTotalTags(object = object, inputAssay = inputAssay, outputColumn = outputColumn):\n",
      "\"object already has a column named subsetTags in colData: It will be overwritten!\"\n",
      "Calculating TPM...\n",
      "\n"
     ]
    },
    {
     "data": {
      "text/plain": [
       "class: RangedSummarizedExperiment \n",
       "dim: 193579 8 \n",
       "metadata(0):\n",
       "assays(2): counts TPM\n",
       "rownames(193579): Chr01:116089-116110;+ Chr01:116131-116134;+ ...\n",
       "  Chr20:47901226-47901250;- Chr20:47901289-47901289;-\n",
       "rowData names(2): score thick\n",
       "colnames(8): Flower Leaf ... Shoot Stemtip\n",
       "colData names(1): subsetTags"
      ]
     },
     "metadata": {},
     "output_type": "display_data"
    }
   ],
   "source": [
    "## ----supportOnTPM, tidy=FALSE-------------------------------------------------\n",
    "# Calculate TPM using pre-calculated total tags:\n",
    "Unidirectional <- calcTPM(sup_TSSs,\n",
    "                          inputAssay=\"counts\", \n",
    "                          outputAssay=\"TPM\", \n",
    "                          outputColumn=\"subsetTags\")\n",
    "Unidirectional"
   ]
  },
  {
   "cell_type": "code",
   "execution_count": 40,
   "id": "88d2e6ea",
   "metadata": {},
   "outputs": [
    {
     "name": "stderr",
     "output_type": "stream",
     "text": [
      "Calculating support...\n",
      "\n",
      "Subsetting...\n",
      "\n",
      "Removed 0 out of 193579 regions (0%)\n",
      "\n"
     ]
    },
    {
     "data": {
      "text/plain": [
       "class: RangedSummarizedExperiment \n",
       "dim: 193579 8 \n",
       "metadata(0):\n",
       "assays(2): counts TPM\n",
       "rownames(193579): Chr01:116089-116110;+ Chr01:116131-116134;+ ...\n",
       "  Chr20:47901226-47901250;- Chr20:47901289-47901289;-\n",
       "rowData names(3): score thick support\n",
       "colnames(8): Flower Leaf ... Shoot Stemtip\n",
       "colData names(1): subsetTags"
      ]
     },
     "metadata": {},
     "output_type": "display_data"
    }
   ],
   "source": [
    "# Only TSSs expressed at more than 1 TPM in more than 2 samples\n",
    "#Unidirectional <- subsetBySupport(Unidirectional,\n",
    "#                                  inputAssay=\"TPM\",\n",
    "#                                  unexpressed=0,\n",
    "#                                  minSamples=2)\n",
    "#TSSs expressed at more than 0 TPM as least in 1 samples\n",
    "Unidirectional <- subsetBySupport(Unidirectional,\n",
    "                                     inputAssay=\"TPM\",\n",
    "                                     unexpressed=1,\n",
    "                                     minSamples=0)\n",
    "Unidirectional"
   ]
  },
  {
   "cell_type": "code",
   "execution_count": 41,
   "id": "9c5255a2",
   "metadata": {},
   "outputs": [
    {
     "name": "stderr",
     "output_type": "stream",
     "text": [
      "Extracting transcripts...\n",
      "\n",
      "Finding hierachical overlaps...\n",
      "\n",
      "### Overlap Summary: ###\n",
      "\n",
      "Features overlapping transcripts: 93.94 %\n",
      "\n",
      "Number of unique transcripts: 68290\n",
      "\n"
     ]
    }
   ],
   "source": [
    "## ----assignTxID, tidy=FALSE---------------------------------------------------\n",
    "Unidirectional <- assignTxID(Unidirectional,\n",
    "                            txModels=txdb,\n",
    "                            outputColumn=\"txID\")"
   ]
  },
  {
   "cell_type": "code",
   "execution_count": 42,
   "id": "275cfc01",
   "metadata": {},
   "outputs": [
    {
     "data": {
      "text/plain": [
       "GRanges object with 2 ranges and 4 metadata columns:\n",
       "                        seqnames    ranges strand |     score     thick\n",
       "                           <Rle> <IRanges>  <Rle> | <numeric> <IRanges>\n",
       "  Chr01:117419-117419;+    Chr01    117419      + |   1.38735    117419\n",
       "  Chr01:118130-118130;+    Chr01    118130      + |   1.09059    118130\n",
       "                          support                   txID\n",
       "                        <integer>            <character>\n",
       "  Chr01:117419-117419;+         1 Glyma.01G000600.1.Wm..\n",
       "  Chr01:118130-118130;+         1 Glyma.01G000600.1.Wm..\n",
       "  -------\n",
       "  seqinfo: 20 sequences from an unspecified genome"
      ]
     },
     "metadata": {},
     "output_type": "display_data"
    }
   ],
   "source": [
    "## ----multipleTxs, tidy=FALSE--------------------------------------------------\n",
    "rowRanges(Unidirectional)[5:6]\n",
    "#export(rowRanges(Unidirectional),\"TC.bed\",\"BED\")"
   ]
  },
  {
   "cell_type": "code",
   "execution_count": 43,
   "id": "792a5661",
   "metadata": {},
   "outputs": [
    {
     "name": "stderr",
     "output_type": "stream",
     "text": [
      "Finding hierachical overlaps...\n",
      "\n",
      "### Overlap summary: ###\n",
      "\n",
      "      txType count percentage\n",
      "1   promoter 54851       28.3\n",
      "2   proximal  9585        5.0\n",
      "3    fiveUTR 33092       17.1\n",
      "4   threeUTR  1786        0.9\n",
      "5        CDS 69569       35.9\n",
      "6       exon     0        0.0\n",
      "7     intron 12957        6.7\n",
      "8  antisense  4832        2.5\n",
      "9 intergenic  6907        3.6\n",
      "\n"
     ]
    }
   ],
   "source": [
    "## ----assignTxType, tidy=FALSE-------------------------------------------------\n",
    "Unidirectional <- assignTxType(Unidirectional,\n",
    "                              txModels=txdb,\n",
    "                              outputColumn=\"txType\")"
   ]
  },
  {
   "cell_type": "code",
   "execution_count": 44,
   "id": "52b21636",
   "metadata": {},
   "outputs": [
    {
     "name": "stderr",
     "output_type": "stream",
     "text": [
      "Finding hierachical overlaps with swapped ranges...\n",
      "\n",
      "### Overlap summary: ###\n",
      "\n",
      "      txType count percentage\n",
      "1   promoter 52878       27.3\n",
      "2   proximal  9870        5.1\n",
      "3    fiveUTR 34187       17.7\n",
      "4   threeUTR  1784        0.9\n",
      "5        CDS 69942       36.1\n",
      "6       exon     0        0.0\n",
      "7     intron 13175        6.8\n",
      "8  antisense  4824        2.5\n",
      "9 intergenic  6919        3.6\n",
      "\n"
     ]
    }
   ],
   "source": [
    "## ----swappedTxType, tidy=FALSE------------------------------------------------\n",
    "Unidirectional <- assignTxType(Unidirectional,\n",
    "                              txModels=txdb,\n",
    "                              outputColumn=\"peakTxType\",\n",
    "                              swap=\"thick\")"
   ]
  },
  {
   "cell_type": "code",
   "execution_count": 45,
   "id": "deae20f8",
   "metadata": {},
   "outputs": [
    {
     "name": "stderr",
     "output_type": "stream",
     "text": [
      "Splitting by strand...\n",
      "\n",
      "Applying function to each cluster...\n",
      "\n",
      "Preparing output output...\n",
      "\n"
     ]
    },
    {
     "data": {
      "text/plain": [
       "class: RangedSummarizedExperiment \n",
       "dim: 193579 8 \n",
       "metadata(0):\n",
       "assays(2): counts TPM\n",
       "rownames(193579): Chr01:116089-116110;+ Chr01:116131-116134;+ ...\n",
       "  Chr20:47901226-47901250;- Chr20:47901289-47901289;-\n",
       "rowData names(7): score thick ... peakTxType IQR\n",
       "colnames(8): Flower Leaf ... Shoot Stemtip\n",
       "colData names(1): subsetTags"
      ]
     },
     "metadata": {},
     "output_type": "display_data"
    },
    {
     "name": "stderr",
     "output_type": "stream",
     "text": [
      "Splitting by strand...\n",
      "\n",
      "Applying function to each cluster...\n",
      "\n",
      "Preparing output output...\n",
      "\n"
     ]
    },
    {
     "data": {
      "text/plain": [
       "class: RangedSummarizedExperiment \n",
       "dim: 193579 8 \n",
       "metadata(0):\n",
       "assays(2): counts TPM\n",
       "rownames(193579): Chr01:116089-116110;+ Chr01:116131-116134;+ ...\n",
       "  Chr20:47901226-47901250;- Chr20:47901289-47901289;-\n",
       "rowData names(8): score thick ... IQR Entropy\n",
       "colnames(8): Flower Leaf ... Shoot Stemtip\n",
       "colData names(1): subsetTags"
      ]
     },
     "metadata": {},
     "output_type": "display_data"
    }
   ],
   "source": [
    "# Calculate shape\n",
    "Unidirectional <- calcShape(Unidirectional,\n",
    "                           pooled=supportedCTSSs,\n",
    "                           outputColumn = \"IQR\",\n",
    "                           shapeFunction = shapeIQR,\n",
    "                           lower=0.25, upper=0.75)\n",
    "Unidirectional\n",
    "Unidirectional <- calcShape(Unidirectional,\n",
    "                        pooled=supportedCTSSs,\n",
    "                        outputColumn = \"Entropy\",\n",
    "                        shapeFunction = shapeEntropy\n",
    "                        )\n",
    "Unidirectional"
   ]
  },
  {
   "cell_type": "code",
   "execution_count": 46,
   "id": "8fbeac6b",
   "metadata": {},
   "outputs": [
    {
     "data": {
      "image/png": "[encoded data removed]",
      "text/plain": [
       "Plot with title \"Histogram of rowRanges(Unidirectional)$IQR\""
      ]
     },
     "metadata": {
      "image/png": {
       "height": 420,
       "width": 420
      }
     },
     "output_type": "display_data"
    },
    {
     "data": {
      "image/png": "[encoded data removed]",
      "text/plain": [
       "Plot with title \"Histogram of rowRanges(Unidirectional)$Entropy\""
      ]
     },
     "metadata": {
      "image/png": {
       "height": 420,
       "width": 420
      }
     },
     "output_type": "display_data"
    }
   ],
   "source": [
    "## ----histIQR, tidy=FALSE------------------------------------------------------\n",
    "hist(rowRanges(Unidirectional)$IQR,\n",
    "     breaks=max(rowRanges(Unidirectional)$IQR),\n",
    "     xlim=c(0,50), \n",
    "     xlab = \"IQR\", \n",
    "     col=\"red\")\n",
    "\n",
    "hist(rowRanges(Unidirectional)$Entropy,\n",
    "     breaks=max(rowRanges(Unidirectional)$Entropy),\n",
    "     xlim=c(0,20), \n",
    "     xlab = \"Entropy\", \n",
    "     col=\"red\")"
   ]
  },
  {
   "cell_type": "code",
   "execution_count": 47,
   "id": "a8117f1a",
   "metadata": {},
   "outputs": [],
   "source": [
    "## ----customShape, tidy=FALSE--------------------------------------------------\n",
    "# Write a function that quantifies the lean of a TSS\n",
    "\n",
    "TSRshapeIndex <- function(x) {\n",
    "  x <- as.vector(x)\n",
    "  tagcount <- sum(x)  \n",
    "  SI <- suppressWarnings(2+sum(ifelse(x > 0, (x/tagcount) * log2(x/tagcount), 0)))  \n",
    "  return(SI)\n",
    "}\n",
    "\n",
    "TSRshapeIndex <- function(x) {\n",
    "  x <- as.vector(x)\n",
    "  tagcount <- sum(x) \n",
    "  SI <- suppressWarnings(2+sum(ifelse(x > 0, (x/tagcount) * log2(x/tagcount), 0))) \n",
    "  return(SI)\n",
    "}\n",
    "\n",
    "TSRmshapeIndex <- function(x) {\n",
    "  x <- as.vector(x)\n",
    "  tagcount <- sum(x)\n",
    "  tsscount <- length(x)\n",
    "  mSI <- suppressWarnings(1+sum(ifelse((tsscount != 1 & x != 0), (x/tagcount) * log((x/tagcount))/log(tsscount), 0)))\n",
    "  return(mSI)\n",
    "}\n",
    "\n",
    "TSRshapiro <- function(x) {\n",
    "  x <- as.vector(x)\n",
    "  x[1]<-x[1]+0.0000001 \n",
    "  shapiro <-suppressWarnings(ifelse(length(x) >=3, shapiro.test(x)$p.value,0))\n",
    "  return(shapiro)\n",
    "}\n",
    "\n",
    "\n",
    "TSRdip <- function(x) {\n",
    "  x <- as.vector(x)\n",
    "  dip <-suppressWarnings(ifelse(length(x) >=3, dip.test(x)$p.value,1))\n",
    "  return(dip)\n",
    "}"
   ]
  },
  {
   "cell_type": "code",
   "execution_count": 48,
   "id": "4b2f74e7",
   "metadata": {},
   "outputs": [
    {
     "name": "stderr",
     "output_type": "stream",
     "text": [
      "Splitting by strand...\n",
      "\n",
      "Applying function to each cluster...\n",
      "\n",
      "Preparing output output...\n",
      "\n"
     ]
    },
    {
     "data": {
      "text/plain": [
       "class: RangedSummarizedExperiment \n",
       "dim: 193579 8 \n",
       "metadata(0):\n",
       "assays(2): counts TPM\n",
       "rownames(193579): Chr01:116089-116110;+ Chr01:116131-116134;+ ...\n",
       "  Chr20:47901226-47901250;- Chr20:47901289-47901289;-\n",
       "rowData names(9): score thick ... Entropy SI\n",
       "colnames(8): Flower Leaf ... Shoot Stemtip\n",
       "colData names(1): subsetTags"
      ]
     },
     "metadata": {},
     "output_type": "display_data"
    }
   ],
   "source": [
    "Unidirectional <- calcShape(Unidirectional,\n",
    "                    pooled=supportedCTSSs,\n",
    "                    outputColumn = \"SI\",\n",
    "                    shapeFunction = TSRshapeIndex)\n",
    "Unidirectional"
   ]
  },
  {
   "cell_type": "code",
   "execution_count": 49,
   "id": "ef82c8fa",
   "metadata": {},
   "outputs": [
    {
     "name": "stderr",
     "output_type": "stream",
     "text": [
      "Splitting by strand...\n",
      "\n",
      "Applying function to each cluster...\n",
      "\n",
      "Preparing output output...\n",
      "\n"
     ]
    },
    {
     "data": {
      "text/plain": [
       "class: RangedSummarizedExperiment \n",
       "dim: 193579 8 \n",
       "metadata(0):\n",
       "assays(2): counts TPM\n",
       "rownames(193579): Chr01:116089-116110;+ Chr01:116131-116134;+ ...\n",
       "  Chr20:47901226-47901250;- Chr20:47901289-47901289;-\n",
       "rowData names(10): score thick ... SI mSI\n",
       "colnames(8): Flower Leaf ... Shoot Stemtip\n",
       "colData names(1): subsetTags"
      ]
     },
     "metadata": {},
     "output_type": "display_data"
    }
   ],
   "source": [
    "Unidirectional <- calcShape(Unidirectional,\n",
    "                        pooled=supportedCTSSs,\n",
    "                        outputColumn = \"mSI\",\n",
    "                        shapeFunction = TSRmshapeIndex)\n",
    "Unidirectional"
   ]
  },
  {
   "cell_type": "code",
   "execution_count": 50,
   "id": "38c1934c",
   "metadata": {},
   "outputs": [
    {
     "name": "stderr",
     "output_type": "stream",
     "text": [
      "Splitting by strand...\n",
      "\n",
      "Applying function to each cluster...\n",
      "\n",
      "Preparing output output...\n",
      "\n"
     ]
    },
    {
     "data": {
      "text/plain": [
       "class: RangedSummarizedExperiment \n",
       "dim: 193579 8 \n",
       "metadata(0):\n",
       "assays(2): counts TPM\n",
       "rownames(193579): Chr01:116089-116110;+ Chr01:116131-116134;+ ...\n",
       "  Chr20:47901226-47901250;- Chr20:47901289-47901289;-\n",
       "rowData names(11): score thick ... mSI shapiro\n",
       "colnames(8): Flower Leaf ... Shoot Stemtip\n",
       "colData names(1): subsetTags"
      ]
     },
     "metadata": {},
     "output_type": "display_data"
    }
   ],
   "source": [
    "Unidirectional <- calcShape(Unidirectional,\n",
    "                        pooled=supportedCTSSs,\n",
    "                        outputColumn = \"shapiro\",\n",
    "                        shapeFunction = TSRshapiro)\n",
    "Unidirectional"
   ]
  },
  {
   "cell_type": "code",
   "execution_count": 53,
   "id": "aacdae13",
   "metadata": {},
   "outputs": [
    {
     "name": "stderr",
     "output_type": "stream",
     "text": [
      "Splitting by strand...\n",
      "\n",
      "Applying function to each cluster...\n",
      "\n",
      "Preparing output output...\n",
      "\n"
     ]
    },
    {
     "data": {
      "text/plain": [
       "class: RangedSummarizedExperiment \n",
       "dim: 193579 8 \n",
       "metadata(0):\n",
       "assays(2): counts TPM\n",
       "rownames(193579): Chr01:116089-116110;+ Chr01:116131-116134;+ ...\n",
       "  Chr20:47901226-47901250;- Chr20:47901289-47901289;-\n",
       "rowData names(12): score thick ... shapiro Dip\n",
       "colnames(8): Flower Leaf ... Shoot Stemtip\n",
       "colData names(1): subsetTags"
      ]
     },
     "metadata": {},
     "output_type": "display_data"
    }
   ],
   "source": [
    "Unidirectional <- calcShape(Unidirectional,\n",
    "                        pooled=supportedCTSSs,\n",
    "                        outputColumn = \"Dip\",\n",
    "                        shapeFunction = TSRdip)\n",
    "Unidirectional"
   ]
  },
  {
   "cell_type": "code",
   "execution_count": 54,
   "id": "477fb190",
   "metadata": {},
   "outputs": [
    {
     "data": {
      "image/png": "[encoded data removed]",
      "text/plain": [
       "Plot with title \"Histogram of rowRanges(Unidirectional)$SI\""
      ]
     },
     "metadata": {
      "image/png": {
       "height": 420,
       "width": 420
      }
     },
     "output_type": "display_data"
    }
   ],
   "source": [
    "hist(rowRanges(Unidirectional)$SI,\n",
    "    # breaks=max(rowRanges(Unidirectional)$SI),\n",
    "     #  xlim=c(0,20), \n",
    "     xlab = \"SI\", \n",
    "     col=\"red\")"
   ]
  },
  {
   "cell_type": "code",
   "execution_count": 55,
   "id": "eb9964e9",
   "metadata": {},
   "outputs": [],
   "source": [
    "result <- data.frame(as.data.frame(Unidirectional@rowRanges),\n",
    "                   as.data.frame(as.matrix(Unidirectional@assays@data@listData$counts)),\n",
    "                   as.data.frame(as.matrix(Unidirectional@assays@data@listData$TPM)))\n",
    "\n",
    "write.table(as.data.frame(result),\n",
    "            file=\"../result_file/Unidirection_result.txt\",\n",
    "            col.names=T,row.names=F,\n",
    "            sep=\"\\t\",quote=F)"
   ]
  },
  {
   "cell_type": "code",
   "execution_count": 56,
   "id": "fd3c623c",
   "metadata": {},
   "outputs": [
    {
     "name": "stderr",
     "output_type": "stream",
     "text": [
      "Pre-filtering bidirectional candidate regions...\n",
      "\n",
      "Retaining for analysis: 2%\n",
      "\n",
      "Splitting by strand...\n",
      "\n",
      "Calculating windowed coverage on plus strand...\n",
      "\n",
      "Calculating windowed coverage on minus strand...\n",
      "\n",
      "Calculating balance score...\n",
      "\n",
      "Slice-reduce to find bidirectional clusters...\n",
      "\n",
      "Calculating statistics...\n",
      "\n",
      "Preparing output...\n",
      "\n",
      "# Bidirectional clustering summary:\n",
      "\n",
      "Number of bidirectional clusters: 929\n",
      "\n",
      "Maximum balance score: 1\n",
      "\n",
      "Minimum balance score: 0.707106781186548\n",
      "\n",
      "Maximum width: 1989\n",
      "\n",
      "Minimum width: 603\n",
      "\n"
     ]
    }
   ],
   "source": [
    "BCs <- clusterBidirectionally(supportedCTSSs, balanceThreshold=0)#0.95"
   ]
  },
  {
   "cell_type": "code",
   "execution_count": 57,
   "id": "23e6cae4",
   "metadata": {},
   "outputs": [
    {
     "name": "stderr",
     "output_type": "stream",
     "text": [
      "Finding overlaps...\n",
      "\n",
      "Aggregating within clusters...\n",
      "\n",
      "Calculating support...\n",
      "\n",
      "Subsetting...\n",
      "\n",
      "Removed 0 out of 929 regions (0%)\n",
      "\n"
     ]
    }
   ],
   "source": [
    "BCs <- calcBidirectionality(BCs, samples=supportedCTSSs)\n",
    "\n",
    "BCs <- quantifyClusters(supportedCTSSs,\n",
    "                        clusters=BCs,\n",
    "                        inputAssay=\"counts\")\n",
    "\n",
    "BCs <- subsetBySupport(BCs,\n",
    "                       inputAssay=\"counts\",\n",
    "                       unexpressed=0,\n",
    "                       minSamples=0)"
   ]
  },
  {
   "cell_type": "code",
   "execution_count": 58,
   "id": "eea66a94",
   "metadata": {},
   "outputs": [
    {
     "name": "stderr",
     "output_type": "stream",
     "text": [
      "Calculating library sizes...\n",
      "\n",
      "Warning message in calcTotalTags(object = object, inputAssay = inputAssay, outputColumn = outputColumn):\n",
      "\"object already has a column named subsetTags in colData: It will be overwritten!\"\n",
      "Calculating TPM...\n",
      "\n",
      "Calculating support...\n",
      "\n",
      "Warning message in calcSupport(object = object, inputAssay = inputAssay, outputColumn = outputColumn, :\n",
      "\"object already has a column named support in rowData: It will be overwritten!\"\n",
      "Subsetting...\n",
      "\n",
      "Removed 0 out of 929 regions (0%)\n",
      "\n",
      "Finding hierachical overlaps...\n",
      "\n",
      "### Overlap summary: ###\n",
      "\n",
      "      txType count percentage\n",
      "1   promoter   501       53.9\n",
      "2   proximal    24        2.6\n",
      "3    fiveUTR   103       11.1\n",
      "4   threeUTR    69        7.4\n",
      "5        CDS   198       21.3\n",
      "6       exon     0        0.0\n",
      "7     intron    16        1.7\n",
      "8  antisense     0        0.0\n",
      "9 intergenic    18        1.9\n",
      "\n",
      "Extracting transcripts...\n",
      "\n",
      "Finding hierachical overlaps...\n",
      "\n",
      "### Overlap Summary: ###\n",
      "\n",
      "Features overlapping transcripts: 98.06 %\n",
      "\n",
      "Number of unique transcripts: 2073\n",
      "\n"
     ]
    }
   ],
   "source": [
    "Bidirectional <- calcTPM(BCs,\n",
    "                         inputAssay=\"counts\", \n",
    "                         outputAssay=\"TPM\", \n",
    "                         outputColumn=\"subsetTags\")\n",
    "\n",
    "Bidirectional <- subsetBySupport(Bidirectional,\n",
    "                                 inputAssay=\"TPM\",\n",
    "                                 unexpressed=1,\n",
    "                                 minSamples=0)\n",
    "\n",
    "Bidirectional <- assignTxType(Bidirectional,\n",
    "                              txModels=txdb,\n",
    "                              outputColumn=\"txType\")\n",
    "\n",
    "Bidirectional <- assignTxID(Bidirectional,\n",
    "                            txModels=txdb,\n",
    "                            outputColumn=\"txID\")"
   ]
  },
  {
   "cell_type": "code",
   "execution_count": 59,
   "id": "30347995",
   "metadata": {},
   "outputs": [],
   "source": [
    "# Only keep intronic and intergenic enhancers\n",
    "#Bidirectional <- subset(Bidirectional,\n",
    "#                               txType %in% c(\"intron\", \"intergenic\"))\n",
    "result<-data.frame(as.data.frame(Bidirectional@rowRanges),\n",
    "                   as.data.frame(as.matrix(Bidirectional@assays@data@listData$counts)),\n",
    "                   as.data.frame(as.matrix(Bidirectional@assays@data@listData$TPM)))\n",
    "\n",
    "write.table(as.data.frame(result),\n",
    "            file = \"../result_file/Bidirection_result.txt\",\n",
    "            col.names=T,row.names=F,\n",
    "            sep=\"\\t\",quote=F)\n"
   ]
  },
  {
   "cell_type": "code",
   "execution_count": null,
   "id": "da84b78d",
   "metadata": {},
   "outputs": [],
   "source": []
  }
 ],
 "metadata": {
  "kernelspec": {
   "display_name": "R",
   "language": "R",
   "name": "ir"
  },
  "language_info": {
   "codemirror_mode": "r",
   "file_extension": ".r",
   "mimetype": "text/x-r-source",
   "name": "R",
   "pygments_lexer": "r",
   "version": "4.3.1"
  }
 },
 "nbformat": 4,
 "nbformat_minor": 5
}
